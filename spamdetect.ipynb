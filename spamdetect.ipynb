{
 "cells": [
  {
   "cell_type": "code",
   "execution_count": 1,
   "metadata": {},
   "outputs": [],
   "source": [
    "import numpy as np\n",
    "import pandas as pd\n",
    "import matplotlib.pyplot as plt\n",
    "from sklearn.model_selection import train_test_split\n",
    "from sklearn.feature_extraction.text import TfidfVectorizer\n",
    "from sklearn.linear_model import LogisticRegression\n",
    "from sklearn.metrics import confusion_matrix\n",
    "from sklearn.metrics import classification_report\n",
    "from sklearn.metrics import accuracy_score\n",
    "\n",
    "data = pd.read_csv(r\"C:\\Users\\Anjali\\Desktop\\spam_detection\\mail_data.csv\")"
   ]
  },
  {
   "cell_type": "code",
   "execution_count": 2,
   "metadata": {},
   "outputs": [
    {
     "data": {
      "text/html": [
       "<div>\n",
       "<style scoped>\n",
       "    .dataframe tbody tr th:only-of-type {\n",
       "        vertical-align: middle;\n",
       "    }\n",
       "\n",
       "    .dataframe tbody tr th {\n",
       "        vertical-align: top;\n",
       "    }\n",
       "\n",
       "    .dataframe thead th {\n",
       "        text-align: right;\n",
       "    }\n",
       "</style>\n",
       "<table border=\"1\" class=\"dataframe\">\n",
       "  <thead>\n",
       "    <tr style=\"text-align: right;\">\n",
       "      <th></th>\n",
       "      <th>Category</th>\n",
       "      <th>Message</th>\n",
       "    </tr>\n",
       "  </thead>\n",
       "  <tbody>\n",
       "    <tr>\n",
       "      <th>0</th>\n",
       "      <td>ham</td>\n",
       "      <td>Go until jurong point, crazy.. Available only ...</td>\n",
       "    </tr>\n",
       "    <tr>\n",
       "      <th>1</th>\n",
       "      <td>ham</td>\n",
       "      <td>Ok lar... Joking wif u oni...</td>\n",
       "    </tr>\n",
       "    <tr>\n",
       "      <th>2</th>\n",
       "      <td>spam</td>\n",
       "      <td>Free entry in 2 a wkly comp to win FA Cup fina...</td>\n",
       "    </tr>\n",
       "    <tr>\n",
       "      <th>3</th>\n",
       "      <td>ham</td>\n",
       "      <td>U dun say so early hor... U c already then say...</td>\n",
       "    </tr>\n",
       "    <tr>\n",
       "      <th>4</th>\n",
       "      <td>ham</td>\n",
       "      <td>Nah I don't think he goes to usf, he lives aro...</td>\n",
       "    </tr>\n",
       "  </tbody>\n",
       "</table>\n",
       "</div>"
      ],
      "text/plain": [
       "  Category                                            Message\n",
       "0      ham  Go until jurong point, crazy.. Available only ...\n",
       "1      ham                      Ok lar... Joking wif u oni...\n",
       "2     spam  Free entry in 2 a wkly comp to win FA Cup fina...\n",
       "3      ham  U dun say so early hor... U c already then say...\n",
       "4      ham  Nah I don't think he goes to usf, he lives aro..."
      ]
     },
     "execution_count": 2,
     "metadata": {},
     "output_type": "execute_result"
    }
   ],
   "source": [
    "data.head()"
   ]
  },
  {
   "cell_type": "code",
   "execution_count": 3,
   "metadata": {},
   "outputs": [],
   "source": [
    "mail_data = data.where(pd.notnull(data), '')"
   ]
  },
  {
   "cell_type": "code",
   "execution_count": 4,
   "metadata": {},
   "outputs": [
    {
     "data": {
      "text/html": [
       "<div>\n",
       "<style scoped>\n",
       "    .dataframe tbody tr th:only-of-type {\n",
       "        vertical-align: middle;\n",
       "    }\n",
       "\n",
       "    .dataframe tbody tr th {\n",
       "        vertical-align: top;\n",
       "    }\n",
       "\n",
       "    .dataframe thead th {\n",
       "        text-align: right;\n",
       "    }\n",
       "</style>\n",
       "<table border=\"1\" class=\"dataframe\">\n",
       "  <thead>\n",
       "    <tr style=\"text-align: right;\">\n",
       "      <th></th>\n",
       "      <th>Category</th>\n",
       "      <th>Message</th>\n",
       "    </tr>\n",
       "  </thead>\n",
       "  <tbody>\n",
       "    <tr>\n",
       "      <th>0</th>\n",
       "      <td>ham</td>\n",
       "      <td>Go until jurong point, crazy.. Available only ...</td>\n",
       "    </tr>\n",
       "    <tr>\n",
       "      <th>1</th>\n",
       "      <td>ham</td>\n",
       "      <td>Ok lar... Joking wif u oni...</td>\n",
       "    </tr>\n",
       "    <tr>\n",
       "      <th>2</th>\n",
       "      <td>spam</td>\n",
       "      <td>Free entry in 2 a wkly comp to win FA Cup fina...</td>\n",
       "    </tr>\n",
       "    <tr>\n",
       "      <th>3</th>\n",
       "      <td>ham</td>\n",
       "      <td>U dun say so early hor... U c already then say...</td>\n",
       "    </tr>\n",
       "    <tr>\n",
       "      <th>4</th>\n",
       "      <td>ham</td>\n",
       "      <td>Nah I don't think he goes to usf, he lives aro...</td>\n",
       "    </tr>\n",
       "  </tbody>\n",
       "</table>\n",
       "</div>"
      ],
      "text/plain": [
       "  Category                                            Message\n",
       "0      ham  Go until jurong point, crazy.. Available only ...\n",
       "1      ham                      Ok lar... Joking wif u oni...\n",
       "2     spam  Free entry in 2 a wkly comp to win FA Cup fina...\n",
       "3      ham  U dun say so early hor... U c already then say...\n",
       "4      ham  Nah I don't think he goes to usf, he lives aro..."
      ]
     },
     "execution_count": 4,
     "metadata": {},
     "output_type": "execute_result"
    }
   ],
   "source": [
    "mail_data.head()"
   ]
  },
  {
   "cell_type": "code",
   "execution_count": null,
   "metadata": {},
   "outputs": [],
   "source": []
  },
  {
   "cell_type": "code",
   "execution_count": 5,
   "metadata": {},
   "outputs": [
    {
     "data": {
      "text/plain": [
       "(5572, 2)"
      ]
     },
     "execution_count": 5,
     "metadata": {},
     "output_type": "execute_result"
    }
   ],
   "source": [
    "mail_data.shape"
   ]
  },
  {
   "cell_type": "markdown",
   "metadata": {},
   "source": [
    "Label Encoding "
   ]
  },
  {
   "cell_type": "code",
   "execution_count": 6,
   "metadata": {},
   "outputs": [],
   "source": [
    "\n",
    "from sklearn.preprocessing import LabelEncoder\n",
    "mail_data.loc[mail_data['Category'] == 'spam', 'Category',] = 0\n",
    "mail_data.loc[mail_data['Category'] == 'ham', 'Category',] = 1"
   ]
  },
  {
   "cell_type": "markdown",
   "metadata": {},
   "source": [
    "Seperating the data as text and labels "
   ]
  },
  {
   "cell_type": "code",
   "execution_count": 7,
   "metadata": {},
   "outputs": [],
   "source": [
    "X = mail_data['Message']\n",
    "y = mail_data['Category']"
   ]
  },
  {
   "cell_type": "code",
   "execution_count": 8,
   "metadata": {},
   "outputs": [
    {
     "name": "stdout",
     "output_type": "stream",
     "text": [
      "(4457,) (1115,) (4457,) (1115,)\n"
     ]
    }
   ],
   "source": [
    "X_train, X_test, y_train, y_test = train_test_split(X, y, test_size=0.2, random_state=3)#same manner\n",
    "print(X_train.shape, X_test.shape, y_train.shape, y_test.shape)"
   ]
  },
  {
   "cell_type": "code",
   "execution_count": 9,
   "metadata": {},
   "outputs": [],
   "source": [
    "#transform text data to feature vectors to be used as input \n",
    "vectorizer = TfidfVectorizer(min_df=1, stop_words='english', lowercase=True)\n",
    "#repeated values get a score according to its occurance in the data\n",
    "X_train_feature = vectorizer.fit_transform(X_train)\n",
    "X_test_feature = vectorizer.transform(X_test)"
   ]
  },
  {
   "cell_type": "code",
   "execution_count": 10,
   "metadata": {},
   "outputs": [
    {
     "name": "stdout",
     "output_type": "stream",
     "text": [
      "  (0, 5413)\t0.6198254967574347\n",
      "  (0, 4456)\t0.4168658090846482\n",
      "  (0, 2224)\t0.413103377943378\n",
      "  (0, 3811)\t0.34780165336891333\n",
      "  (0, 2329)\t0.38783870336935383\n",
      "  (1, 4080)\t0.18880584110891163\n",
      "  (1, 3185)\t0.29694482957694585\n",
      "  (1, 3325)\t0.31610586766078863\n",
      "  (1, 2957)\t0.3398297002864083\n",
      "  (1, 2746)\t0.3398297002864083\n",
      "  (1, 918)\t0.22871581159877646\n",
      "  (1, 1839)\t0.2784903590561455\n",
      "  (1, 2758)\t0.3226407885943799\n",
      "  (1, 2956)\t0.33036995955537024\n",
      "  (1, 1991)\t0.33036995955537024\n",
      "  (1, 3046)\t0.2503712792613518\n",
      "  (1, 3811)\t0.17419952275504033\n",
      "  (2, 407)\t0.509272536051008\n",
      "  (2, 3156)\t0.4107239318312698\n",
      "  (2, 2404)\t0.45287711070606745\n",
      "  (2, 6601)\t0.6056811524587518\n",
      "  (3, 2870)\t0.5864269879324768\n",
      "  (3, 7414)\t0.8100020912469564\n",
      "  (4, 50)\t0.23633754072626942\n",
      "  (4, 5497)\t0.15743785051118356\n",
      "  :\t:\n",
      "  (4454, 4602)\t0.2669765732445391\n",
      "  (4454, 3142)\t0.32014451677763156\n",
      "  (4455, 2247)\t0.37052851863170466\n",
      "  (4455, 2469)\t0.35441545511837946\n",
      "  (4455, 5646)\t0.33545678464631296\n",
      "  (4455, 6810)\t0.29731757715898277\n",
      "  (4455, 6091)\t0.23103841516927642\n",
      "  (4455, 7113)\t0.30536590342067704\n",
      "  (4455, 3872)\t0.3108911491788658\n",
      "  (4455, 4715)\t0.30714144758811196\n",
      "  (4455, 6916)\t0.19636985317119715\n",
      "  (4455, 3922)\t0.31287563163368587\n",
      "  (4455, 4456)\t0.24920025316220423\n",
      "  (4456, 141)\t0.292943737785358\n",
      "  (4456, 647)\t0.30133182431707617\n",
      "  (4456, 6311)\t0.30133182431707617\n",
      "  (4456, 5569)\t0.4619395404299172\n",
      "  (4456, 6028)\t0.21034888000987115\n",
      "  (4456, 7154)\t0.24083218452280053\n",
      "  (4456, 7150)\t0.3677554681447669\n",
      "  (4456, 6249)\t0.17573831794959716\n",
      "  (4456, 6307)\t0.2752760476857975\n",
      "  (4456, 334)\t0.2220077711654938\n",
      "  (4456, 5778)\t0.16243064490100795\n",
      "  (4456, 2870)\t0.31523196273113385\n"
     ]
    }
   ],
   "source": [
    "print(X_train_feature)"
   ]
  },
  {
   "cell_type": "code",
   "execution_count": 11,
   "metadata": {},
   "outputs": [
    {
     "name": "stdout",
     "output_type": "stream",
     "text": [
      "3075    1\n",
      "1787    1\n",
      "1614    1\n",
      "4304    1\n",
      "3266    0\n",
      "       ..\n",
      "789     0\n",
      "968     1\n",
      "1667    1\n",
      "3321    1\n",
      "1688    0\n",
      "Name: Category, Length: 4457, dtype: int32\n"
     ]
    }
   ],
   "source": [
    "#covert y to integers\n",
    "y_train = y_train.astype('int')\n",
    "print(y_train)\n",
    "y_test = y_test.astype('int')"
   ]
  },
  {
   "cell_type": "code",
   "execution_count": 12,
   "metadata": {},
   "outputs": [
    {
     "name": "stdout",
     "output_type": "stream",
     "text": [
      "0       0.000107\n",
      "1       0.000413\n",
      "2       0.000013\n",
      "3       0.000018\n",
      "4       0.000016\n",
      "          ...   \n",
      "7426    0.000017\n",
      "7427    0.000006\n",
      "7428    0.000008\n",
      "7429    0.000012\n",
      "7430    0.000037\n",
      "Length: 7431, dtype: float64\n"
     ]
    }
   ],
   "source": [
    "X_train_feature = pd.DataFrame(X_train_feature.toarray())\n",
    "X_test_feature = pd.DataFrame(X_test_feature.toarray())\n",
    "#find variance\n",
    "print(X_train_feature.var())"
   ]
  },
  {
   "cell_type": "code",
   "execution_count": 13,
   "metadata": {},
   "outputs": [],
   "source": [
    "variance = X_train_feature.var()\n",
    "columns = X_train_feature.columns"
   ]
  },
  {
   "cell_type": "code",
   "execution_count": 14,
   "metadata": {},
   "outputs": [],
   "source": [
    "variable = []\n",
    "for i in range(len(variance)):\n",
    "    if variance[i] > 0.001:\n",
    "        variable.append(columns[i])\n",
    "    "
   ]
  },
  {
   "cell_type": "code",
   "execution_count": 15,
   "metadata": {},
   "outputs": [
    {
     "name": "stdout",
     "output_type": "stream",
     "text": [
      "[861, 918, 1047, 1140, 1507, 1517, 1584, 1760, 1837, 1843, 1929, 2065, 2103, 2113, 2224, 2253, 2319, 2329, 2332, 2411, 2756, 2759, 2870, 3004, 3053, 3063, 3065, 3081, 3113, 3133, 3156, 3167, 3208, 3229, 3267, 3281, 3285, 3332, 3348, 3466, 3470, 3677, 3722, 3811, 3880, 3882, 3912, 3923, 3935, 3951, 3962, 4014, 4038, 4044, 4060, 4080, 4104, 4113, 4178, 4267, 4269, 4298, 4324, 4350, 4386, 4413, 4428, 4456, 4557, 4582, 4594, 4602, 4674, 4715, 4724, 4729, 4734, 4842, 4986, 5000, 5028, 5033, 5056, 5204, 5220, 5382, 5391, 5497, 5560, 5653, 5696, 5778, 5785, 5946, 5981, 6082, 6091, 6123, 6249, 6380, 6452, 6507, 6541, 6556, 6557, 6562, 6587, 6589, 6605, 6637, 6677, 6686, 6697, 6704, 6916, 6976, 7067, 7070, 7085, 7090, 7109, 7113, 7124, 7150, 7171, 7238, 7288, 7292, 7355, 7368, 7379, 7390, 7414]\n"
     ]
    }
   ],
   "source": [
    "print(variable)"
   ]
  },
  {
   "cell_type": "code",
   "execution_count": 16,
   "metadata": {},
   "outputs": [],
   "source": [
    "new_data  = X_train_feature[variable]\n",
    "new_data_test = X_test_feature[variable]"
   ]
  },
  {
   "cell_type": "code",
   "execution_count": 17,
   "metadata": {},
   "outputs": [
    {
     "name": "stdout",
     "output_type": "stream",
     "text": [
      "      861       918   1047  1140  1507  1517  1584  1760      1837  1843  ...  \\\n",
      "0      0.0  0.000000   0.0   0.0   0.0   0.0   0.0   0.0  0.000000   0.0  ...   \n",
      "1      0.0  0.228716   0.0   0.0   0.0   0.0   0.0   0.0  0.000000   0.0  ...   \n",
      "2      0.0  0.000000   0.0   0.0   0.0   0.0   0.0   0.0  0.000000   0.0  ...   \n",
      "3      0.0  0.000000   0.0   0.0   0.0   0.0   0.0   0.0  0.000000   0.0  ...   \n",
      "4      0.0  0.000000   0.0   0.0   0.0   0.0   0.0   0.0  0.000000   0.0  ...   \n",
      "...    ...       ...   ...   ...   ...   ...   ...   ...       ...   ...  ...   \n",
      "4452   0.0  0.000000   0.0   0.0   0.0   0.0   0.0   0.0  0.000000   0.0  ...   \n",
      "4453   0.0  0.000000   0.0   0.0   0.0   0.0   0.0   0.0  0.362248   0.0  ...   \n",
      "4454   0.0  0.000000   0.0   0.0   0.0   0.0   0.0   0.0  0.000000   0.0  ...   \n",
      "4455   0.0  0.000000   0.0   0.0   0.0   0.0   0.0   0.0  0.000000   0.0  ...   \n",
      "4456   0.0  0.000000   0.0   0.0   0.0   0.0   0.0   0.0  0.000000   0.0  ...   \n",
      "\n",
      "          7150  7171  7238  7288  7292  7355  7368  7379  7390      7414  \n",
      "0     0.000000   0.0   0.0   0.0   0.0   0.0   0.0   0.0   0.0  0.000000  \n",
      "1     0.000000   0.0   0.0   0.0   0.0   0.0   0.0   0.0   0.0  0.000000  \n",
      "2     0.000000   0.0   0.0   0.0   0.0   0.0   0.0   0.0   0.0  0.000000  \n",
      "3     0.000000   0.0   0.0   0.0   0.0   0.0   0.0   0.0   0.0  0.810002  \n",
      "4     0.000000   0.0   0.0   0.0   0.0   0.0   0.0   0.0   0.0  0.000000  \n",
      "...        ...   ...   ...   ...   ...   ...   ...   ...   ...       ...  \n",
      "4452  0.169623   0.0   0.0   0.0   0.0   0.0   0.0   0.0   0.0  0.000000  \n",
      "4453  0.000000   0.0   0.0   0.0   0.0   0.0   0.0   0.0   0.0  0.000000  \n",
      "4454  0.000000   0.0   0.0   0.0   0.0   0.0   0.0   0.0   0.0  0.000000  \n",
      "4455  0.000000   0.0   0.0   0.0   0.0   0.0   0.0   0.0   0.0  0.000000  \n",
      "4456  0.367755   0.0   0.0   0.0   0.0   0.0   0.0   0.0   0.0  0.000000  \n",
      "\n",
      "[4457 rows x 133 columns]\n"
     ]
    }
   ],
   "source": [
    "print(new_data)"
   ]
  },
  {
   "cell_type": "code",
   "execution_count": 18,
   "metadata": {},
   "outputs": [],
   "source": [
    "#logistic regression from scratch \n",
    "def sigmoid(z):\n",
    "    return 1 / (1 + np.exp(-z))\n",
    "\n",
    "def logistic_regression(X, y, learning_rate, num_iterations):\n",
    "    #initialize theta\n",
    "    theta = np.zeros(X.shape)\n",
    "    #iterate through the number of iterations\n",
    "    for i in range(num_iterations):\n",
    "        #prediction\n",
    "        y_pred = sigmoid(np.dot(X, theta))\n",
    "        #update theta\n",
    "        theta = theta - learning_rate * np.dot(X.T, (y_pred - y))\n",
    "    return theta\n",
    "\n",
    "\n"
   ]
  },
  {
   "cell_type": "code",
   "execution_count": 19,
   "metadata": {},
   "outputs": [
    {
     "name": "stdout",
     "output_type": "stream",
     "text": [
      "(4457, 7431)\n"
     ]
    }
   ],
   "source": [
    "print(X_train_feature.shape)"
   ]
  },
  {
   "cell_type": "code",
   "execution_count": 20,
   "metadata": {},
   "outputs": [
    {
     "data": {
      "text/plain": [
       "LogisticRegression()"
      ]
     },
     "execution_count": 20,
     "metadata": {},
     "output_type": "execute_result"
    }
   ],
   "source": [
    "#import logistic regression\n",
    "from sklearn.linear_model import LogisticRegression\n",
    "#create a logistic regression model\n",
    "logreg = LogisticRegression()\n",
    "#fit the model\n",
    "logreg.fit(X_train_feature, y_train)"
   ]
  },
  {
   "cell_type": "code",
   "execution_count": 21,
   "metadata": {},
   "outputs": [
    {
     "name": "stdout",
     "output_type": "stream",
     "text": [
      "0.9670181736594121\n"
     ]
    }
   ],
   "source": [
    "#accuracy score of training data\n",
    "print(logreg.score(X_train_feature, y_train))\n"
   ]
  },
  {
   "cell_type": "code",
   "execution_count": 22,
   "metadata": {},
   "outputs": [
    {
     "name": "stdout",
     "output_type": "stream",
     "text": [
      "[1 1 1 ... 1 1 0]\n",
      "[0 1 1 ... 1 1 1]\n",
      "              precision    recall  f1-score   support\n",
      "\n",
      "           0       1.00      0.75      0.86       155\n",
      "           1       0.96      1.00      0.98       960\n",
      "\n",
      "    accuracy                           0.97      1115\n",
      "   macro avg       0.98      0.88      0.92      1115\n",
      "weighted avg       0.97      0.97      0.96      1115\n",
      "\n",
      "0.9659192825112107\n"
     ]
    }
   ],
   "source": [
    "#prediction on training data \n",
    "y_pred = logreg.predict(X_train_feature)\n",
    "print(y_pred)\n",
    "#prediction on test data\n",
    "y_pred = logreg.predict(X_test_feature)\n",
    "print(y_pred)\n",
    "#confusion matrix\n",
    "# confusion_matrix = confusion_matrix(y_test, y_pred)\n",
    "# print(confusion_matrix)\n",
    "#classification report\n",
    "print(classification_report(y_test, y_pred))\n",
    "#accuracy score\n",
    "print(accuracy_score(y_test, y_pred))\n"
   ]
  },
  {
   "cell_type": "code",
   "execution_count": 23,
   "metadata": {},
   "outputs": [],
   "source": [
    "#naive bayes\n",
    "def gaussian(x, mean, std):\n",
    "    exponent = np.exp(-(x-mean)**2/(2*std**2))\n",
    "    return (1 / (np.sqrt(2*np.pi) * std)) * exponent\n",
    "\n",
    "def naive_bayes(x, mean, std, p):\n",
    "    return p * gaussian(x, mean, std)\n"
   ]
  },
  {
   "cell_type": "code",
   "execution_count": 24,
   "metadata": {},
   "outputs": [],
   "source": [
    "#training the model \n",
    "model = naive_bayes(X_train_feature, y_train, 1, 0.5)"
   ]
  },
  {
   "cell_type": "code",
   "execution_count": 25,
   "metadata": {},
   "outputs": [
    {
     "name": "stdout",
     "output_type": "stream",
     "text": [
      "          0         1         2         3         4         5     6     \\\n",
      "0     0.120985  0.120985  0.199471  0.120985  0.120985  0.199471   NaN   \n",
      "1     0.120985  0.120985  0.199471  0.120985  0.120985  0.199471   NaN   \n",
      "2     0.120985  0.120985  0.199471  0.120985  0.120985  0.199471   NaN   \n",
      "3     0.120985  0.120985  0.199471  0.120985  0.120985  0.199471   NaN   \n",
      "4     0.120985  0.120985  0.199471  0.120985  0.120985  0.199471   NaN   \n",
      "...        ...       ...       ...       ...       ...       ...   ...   \n",
      "4452  0.120985  0.120985  0.199471  0.120985  0.120985  0.199471   NaN   \n",
      "4453  0.120985  0.120985  0.199471  0.120985  0.120985  0.199471   NaN   \n",
      "4454  0.120985  0.120985  0.199471  0.120985  0.120985  0.199471   NaN   \n",
      "4455  0.120985  0.120985  0.199471  0.120985  0.120985  0.199471   NaN   \n",
      "4456  0.120985  0.120985  0.199471  0.120985  0.120985  0.199471   NaN   \n",
      "\n",
      "          7         8     9     ...  7421  7422  7423  7424  7425  7426  7427  \\\n",
      "0     0.120985  0.199471   NaN  ...   NaN   NaN   NaN   NaN   NaN   NaN   NaN   \n",
      "1     0.120985  0.199471   NaN  ...   NaN   NaN   NaN   NaN   NaN   NaN   NaN   \n",
      "2     0.120985  0.199471   NaN  ...   NaN   NaN   NaN   NaN   NaN   NaN   NaN   \n",
      "3     0.120985  0.199471   NaN  ...   NaN   NaN   NaN   NaN   NaN   NaN   NaN   \n",
      "4     0.120985  0.199471   NaN  ...   NaN   NaN   NaN   NaN   NaN   NaN   NaN   \n",
      "...        ...       ...   ...  ...   ...   ...   ...   ...   ...   ...   ...   \n",
      "4452  0.120985  0.199471   NaN  ...   NaN   NaN   NaN   NaN   NaN   NaN   NaN   \n",
      "4453  0.120985  0.199471   NaN  ...   NaN   NaN   NaN   NaN   NaN   NaN   NaN   \n",
      "4454  0.120985  0.199471   NaN  ...   NaN   NaN   NaN   NaN   NaN   NaN   NaN   \n",
      "4455  0.120985  0.199471   NaN  ...   NaN   NaN   NaN   NaN   NaN   NaN   NaN   \n",
      "4456  0.120985  0.199471   NaN  ...   NaN   NaN   NaN   NaN   NaN   NaN   NaN   \n",
      "\n",
      "      7428  7429  7430  \n",
      "0      NaN   NaN   NaN  \n",
      "1      NaN   NaN   NaN  \n",
      "2      NaN   NaN   NaN  \n",
      "3      NaN   NaN   NaN  \n",
      "4      NaN   NaN   NaN  \n",
      "...    ...   ...   ...  \n",
      "4452   NaN   NaN   NaN  \n",
      "4453   NaN   NaN   NaN  \n",
      "4454   NaN   NaN   NaN  \n",
      "4455   NaN   NaN   NaN  \n",
      "4456   NaN   NaN   NaN  \n",
      "\n",
      "[4457 rows x 7431 columns]\n"
     ]
    }
   ],
   "source": [
    "print(model)\n"
   ]
  },
  {
   "cell_type": "code",
   "execution_count": 26,
   "metadata": {},
   "outputs": [],
   "source": [
    "#find accuracy\n",
    "# y_pred = model.predict(X_train_feature)\n",
    "# print(y_pred)"
   ]
  },
  {
   "cell_type": "code",
   "execution_count": 27,
   "metadata": {},
   "outputs": [
    {
     "data": {
      "text/plain": [
       "GaussianNB()"
      ]
     },
     "execution_count": 27,
     "metadata": {},
     "output_type": "execute_result"
    }
   ],
   "source": [
    "#import naive bayes\n",
    "from sklearn.naive_bayes import GaussianNB\n",
    "#create a naive bayes model\n",
    "gnb = GaussianNB()\n",
    "#fit the model\n",
    "gnb.fit(X_train_feature, y_train)\n"
   ]
  },
  {
   "cell_type": "code",
   "execution_count": 28,
   "metadata": {},
   "outputs": [
    {
     "name": "stdout",
     "output_type": "stream",
     "text": [
      "[0 1 1 ... 1 1 0]\n"
     ]
    }
   ],
   "source": [
    "\n",
    "y_pred = gnb.predict(X_train_feature)\n",
    "print(y_pred)"
   ]
  },
  {
   "cell_type": "code",
   "execution_count": 29,
   "metadata": {},
   "outputs": [
    {
     "name": "stdout",
     "output_type": "stream",
     "text": [
      "0.934709445815571\n"
     ]
    }
   ],
   "source": [
    "#accuracy score\n",
    "print(accuracy_score(y_train, y_pred))"
   ]
  },
  {
   "cell_type": "code",
   "execution_count": 30,
   "metadata": {},
   "outputs": [
    {
     "name": "stdout",
     "output_type": "stream",
     "text": [
      "[0 1 0 ... 1 1 0]\n"
     ]
    }
   ],
   "source": [
    "#on test data\n",
    "y_pred = gnb.predict(X_test_feature)\n",
    "print(y_pred)"
   ]
  },
  {
   "cell_type": "code",
   "execution_count": 31,
   "metadata": {},
   "outputs": [
    {
     "name": "stdout",
     "output_type": "stream",
     "text": [
      "0.8878923766816144\n"
     ]
    }
   ],
   "source": [
    "#accuracy score\n",
    "print(accuracy_score(y_test, y_pred))"
   ]
  },
  {
   "cell_type": "code",
   "execution_count": 47,
   "metadata": {},
   "outputs": [],
   "source": [
    "input_mail = [\"awesxtvygbuhnijmok,pcfvghjuioko\"]\n",
    "input_mail = np.array(input_mail)\n",
    "input_mail_feature = vectorizer.transform(input_mail)\n",
    "input_mail_feature = pd.DataFrame(input_mail_feature.toarray())"
   ]
  },
  {
   "cell_type": "code",
   "execution_count": 48,
   "metadata": {},
   "outputs": [
    {
     "name": "stdout",
     "output_type": "stream",
     "text": [
      "[0]\n"
     ]
    }
   ],
   "source": [
    "#predict the input mail\n",
    "prediction = gnb.predict(input_mail_feature)\n",
    "print(prediction)\n"
   ]
  },
  {
   "cell_type": "code",
   "execution_count": 40,
   "metadata": {},
   "outputs": [
    {
     "name": "stdout",
     "output_type": "stream",
     "text": [
      "[1]\n"
     ]
    }
   ],
   "source": [
    "prediction_2 = logreg.predict(input_mail_feature)\n",
    "print(prediction_2)"
   ]
  },
  {
   "cell_type": "code",
   "execution_count": 35,
   "metadata": {},
   "outputs": [
    {
     "data": {
      "text/plain": [
       "['gnb.pkl']"
      ]
     },
     "execution_count": 35,
     "metadata": {},
     "output_type": "execute_result"
    }
   ],
   "source": [
    "import joblib\n",
    "joblib.dump(logreg, 'logreg.pkl')\n",
    "joblib.dump(gnb, 'gnb.pkl')\n"
   ]
  },
  {
   "cell_type": "code",
   "execution_count": 36,
   "metadata": {},
   "outputs": [],
   "source": [
    "from flask import Flask\n",
    "app = Flask(__name__)\n",
    "@app.route('/predict', methods=['POST'])\n",
    "def predict():\n",
    "    input_mail = request.form['input_mail']\n",
    "    input_mail = np.array([input_mail])\n",
    "    input_mail_feature = vectorizer.transform(input_mail)\n",
    "    input_mail_feature = pd.DataFrame(input_mail_feature.toarray())\n",
    "    prediction = gnb.predict(input_mail_feature)\n",
    "    prediction_2 = logreg.predict(input_mail_feature)\n",
    "    return str(prediction)\n",
    "    \n"
   ]
  },
  {
   "cell_type": "code",
   "execution_count": 37,
   "metadata": {},
   "outputs": [],
   "source": [
    "#import joblib\n",
    "\n",
    "\n",
    "classifier = joblib.load('logreg.pkl')\n",
    "prediction = classifier.predict(input_mail_feature)\n",
    "\n"
   ]
  }
 ],
 "metadata": {
  "interpreter": {
   "hash": "a4a32208fe57bd9bd2e8cf471b55207ccd1db41e4a4526642b234c85a6d3d80c"
  },
  "kernelspec": {
   "display_name": "Python 3.10.2 64-bit",
   "language": "python",
   "name": "python3"
  },
  "language_info": {
   "codemirror_mode": {
    "name": "ipython",
    "version": 3
   },
   "file_extension": ".py",
   "mimetype": "text/x-python",
   "name": "python",
   "nbconvert_exporter": "python",
   "pygments_lexer": "ipython3",
   "version": "3.10.2"
  },
  "orig_nbformat": 4
 },
 "nbformat": 4,
 "nbformat_minor": 2
}
